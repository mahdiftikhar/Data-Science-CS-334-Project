{
 "cells": [
  {
   "cell_type": "markdown",
   "metadata": {},
   "source": [
    "# Imports"
   ]
  },
  {
   "cell_type": "code",
   "execution_count": 1,
   "metadata": {},
   "outputs": [],
   "source": [
    "import numpy as np\n",
    "import pandas as pd\n",
    "import seaborn as sns\n",
    "import matplotlib.pyplot as plt\n",
    "%matplotlib inline\n",
    "plt.style.use('ggplot')\n",
    "\n",
    "from sklearn.svm import SVC\n",
    "from sklearn.metrics import confusion_matrix, classification_report\n",
    "\n",
    "from sklearn.experimental import enable_halving_search_cv # needed for HalvingGridSearchCV\n",
    "from sklearn.model_selection import HalvingGridSearchCV"
   ]
  },
  {
   "cell_type": "markdown",
   "metadata": {},
   "source": [
    "# Loading Data"
   ]
  },
  {
   "cell_type": "markdown",
   "metadata": {},
   "source": [
    "We load data here and perform some preprocessing such as dropping title column and encoding the ESRB_Rating column. The data is then split into train_X and train_Y"
   ]
  },
  {
   "cell_type": "code",
   "execution_count": 2,
   "metadata": {},
   "outputs": [],
   "source": [
    "train_df = pd.read_csv(\"cleaned_data.csv\", index_col=0)\n",
    "test_df = pd.read_csv(\"test_esrb.csv\")\n",
    "\n",
    "original_train_df = train_df.copy()\n",
    "original_test_df = test_df.copy()\n",
    "\n",
    "train_df = train_df.drop(columns=['title'])\n",
    "test_df = test_df.drop(columns=['title'])\n",
    "\n",
    "ENCODINGS = {\"E\": 0, \"ET\": 1, \"T\": 2, \"M\": 3}\n",
    "ENCODING_LABELS = list(ENCODINGS.keys())\n",
    "\n",
    "train_df.esrb_rating = train_df.esrb_rating.replace(ENCODINGS)\n",
    "test_df.esrb_rating = test_df.esrb_rating.replace(ENCODINGS)\n",
    "\n",
    "train_X = train_df.drop(['esrb_rating'], axis=1)\n",
    "train_Y = train_df['esrb_rating']\n",
    "\n",
    "test_X = test_df.drop(['esrb_rating'], axis=1)\n",
    "test_Y = test_df['esrb_rating']"
   ]
  },
  {
   "cell_type": "code",
   "execution_count": 3,
   "metadata": {},
   "outputs": [
    {
     "name": "stdout",
     "output_type": "stream",
     "text": [
      "Train_X shape: (1889, 32)\tTrain_Y shape: (1889,)\n",
      "Test_X shape:  (500, 32)\tTest_Y shape:  (500,)\n"
     ]
    }
   ],
   "source": [
    "print(f\"Train_X shape: {train_X.shape}\\tTrain_Y shape: {train_Y.shape}\")\n",
    "print(f\"Test_X shape:  {test_X.shape}\\tTest_Y shape:  {test_Y.shape}\")"
   ]
  },
  {
   "cell_type": "markdown",
   "metadata": {},
   "source": [
    "# Visualizing Test Data distribution"
   ]
  },
  {
   "cell_type": "code",
   "execution_count": 4,
   "metadata": {},
   "outputs": [
    {
     "data": {
      "image/png": "[encoded data removed]",
      "text/plain": [
       "<Figure size 432x288 with 1 Axes>"
      ]
     },
     "metadata": {},
     "output_type": "display_data"
    }
   ],
   "source": [
    "chart_data = original_test_df[[\"esrb_rating\"]].value_counts()\n",
    "chart_labels = []\n",
    "\n",
    "for i in list(chart_data.index):\n",
    "    chart_labels.append(i[0])\n",
    "\n",
    "plt.pie(chart_data, labels=list(chart_labels), autopct='%1.1f%%')\n",
    "plt.title(\"There is moderate class imbalance in the test data\", fontsize=12)\n",
    "plt.suptitle(\"ESRB Rating Distribution for the Test Dataset\",\n",
    "             fontsize=18, y=1.025)\n",
    "plt.show()"
   ]
  },
  {
   "cell_type": "markdown",
   "metadata": {},
   "source": [
    "# Finding Best Parameters for SVM\n",
    "\n",
    "We define a range of values for different parameters for the SVM model, such as regularization parameter C = np.linspace(0.1, 100, 10). We then use HalvingGridSearchCV to exhaustively find the best parameters from these ranges. "
   ]
  },
  {
   "cell_type": "code",
   "execution_count": 5,
   "metadata": {},
   "outputs": [
    {
     "name": "stdout",
     "output_type": "stream",
     "text": [
      "{'C': array([  0.1,  11.2,  22.3,  33.4,  44.5,  55.6,  66.7,  77.8,  88.9,\n",
      "       100. ]), 'degree': [2, 3, 4, 5, 6], 'gamma': [0.1, 1.2, 2.3, 3.4, 4.5, 5.6, 6.7, 7.8, 8.9, 10.0, 'scale', 'auto'], 'kernel': ['poly', 'rbf', 'sigmoid']}\n"
     ]
    }
   ],
   "source": [
    "C = np.linspace(0.1, 100, 10)\n",
    "degree = [2, 3, 4, 5, 6]\n",
    "gamma = list(np.round(np.linspace(0.1, 10, 10), 3))\n",
    "gamma.append('scale')\n",
    "gamma.append('auto')\n",
    "kernel = ['poly', 'rbf', 'sigmoid']\n",
    "\n",
    "param_grid = {'C': C, 'degree': degree, 'gamma': gamma, 'kernel': kernel}\n",
    "print(param_grid)"
   ]
  },
  {
   "cell_type": "code",
   "execution_count": 6,
   "metadata": {},
   "outputs": [
    {
     "data": {
      "text/plain": [
       "HalvingGridSearchCV(estimator=SVC(), n_jobs=20,\n",
       "                    param_grid={'C': array([  0.1,  11.2,  22.3,  33.4,  44.5,  55.6,  66.7,  77.8,  88.9,\n",
       "       100. ]),\n",
       "                                'degree': [2, 3, 4, 5, 6],\n",
       "                                'gamma': [0.1, 1.2, 2.3, 3.4, 4.5, 5.6, 6.7,\n",
       "                                          7.8, 8.9, 10.0, 'scale', 'auto'],\n",
       "                                'kernel': ['poly', 'rbf', 'sigmoid']},\n",
       "                    scoring='accuracy')"
      ]
     },
     "execution_count": 6,
     "metadata": {},
     "output_type": "execute_result"
    }
   ],
   "source": [
    "svm_model = HalvingGridSearchCV(\n",
    "    SVC(), \n",
    "    param_grid=param_grid,\n",
    "    scoring='accuracy',\n",
    "    n_jobs=20,\n",
    "    refit=True,\n",
    ")\n",
    "\n",
    "svm_model.fit(train_X, train_Y)"
   ]
  },
  {
   "cell_type": "markdown",
   "metadata": {},
   "source": [
    "The best parameters have been found:"
   ]
  },
  {
   "cell_type": "code",
   "execution_count": 7,
   "metadata": {},
   "outputs": [
    {
     "name": "stdout",
     "output_type": "stream",
     "text": [
      "Best parameters: {'C': 11.200000000000001, 'degree': 3, 'gamma': 0.1, 'kernel': 'rbf'}\n"
     ]
    }
   ],
   "source": [
    "print(\"Best parameters:\", svm_model.best_params_)\n",
    "best_svm_model = svm_model.best_estimator_"
   ]
  },
  {
   "cell_type": "markdown",
   "metadata": {},
   "source": [
    "# Testing Pipeline\n",
    "\n",
    "Precision, Recall, Accuracy and confusion matrix can all be seen here. As evident by the results, the model performs very well"
   ]
  },
  {
   "cell_type": "code",
   "execution_count": 8,
   "metadata": {},
   "outputs": [
    {
     "name": "stdout",
     "output_type": "stream",
     "text": [
      "              precision    recall  f1-score   support\n",
      "\n",
      "           E       0.95      0.95      0.95       100\n",
      "          ET       0.82      0.86      0.84       126\n",
      "           T       0.81      0.85      0.83       184\n",
      "           M       0.92      0.77      0.84        90\n",
      "\n",
      "    accuracy                           0.86       500\n",
      "   macro avg       0.88      0.86      0.86       500\n",
      "weighted avg       0.86      0.86      0.86       500\n",
      "\n"
     ]
    },
    {
     "data": {
      "image/png": "[encoded data removed]",
      "text/plain": [
       "<Figure size 720x720 with 2 Axes>"
      ]
     },
     "metadata": {},
     "output_type": "display_data"
    }
   ],
   "source": [
    "preds = best_svm_model.predict(test_X)\n",
    "print(classification_report(test_Y, preds, target_names=ENCODING_LABELS))\n",
    "\n",
    "cfm = confusion_matrix(test_Y, preds)\n",
    "\n",
    "plt.figure(figsize=(10, 10))\n",
    "sns.heatmap(pd.DataFrame(cfm, ENCODING_LABELS, ENCODING_LABELS),\n",
    "            annot=True, fmt='d', square=True)\n",
    "pass"
   ]
  }
 ],
 "metadata": {
  "kernelspec": {
   "display_name": "Python 3.9.12 ('base')",
   "language": "python",
   "name": "python3"
  },
  "language_info": {
   "codemirror_mode": {
    "name": "ipython",
    "version": 3
   },
   "file_extension": ".py",
   "mimetype": "text/x-python",
   "name": "python",
   "nbconvert_exporter": "python",
   "pygments_lexer": "ipython3",
   "version": "3.9.12"
  },
  "orig_nbformat": 4,
  "vscode": {
   "interpreter": {
    "hash": "768799ce9e5c8ba043955927c1a3f51bda7d9c9908c8f92a2135d643b8a37bbb"
   }
  }
 },
 "nbformat": 4,
 "nbformat_minor": 2
}
